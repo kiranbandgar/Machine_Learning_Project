{
  "nbformat": 4,
  "nbformat_minor": 0,
  "metadata": {
    "colab": {
      "name": "Credit Card Fraud Detection.ipynb",
      "provenance": []
    },
    "kernelspec": {
      "name": "python3",
      "display_name": "Python 3"
    },
    "language_info": {
      "name": "python"
    }
  },
  "cells": [
    {
      "cell_type": "code",
      "metadata": {
        "id": "tvryPRG0Yarn"
      },
      "source": [
        "import numpy as np\n",
        "import pandas as pd"
      ],
      "execution_count": 1,
      "outputs": []
    },
    {
      "cell_type": "code",
      "metadata": {
        "id": "rJZ1_P8nYkdz"
      },
      "source": [
        "data=pd.read_csv('/content/creditcard.csv')"
      ],
      "execution_count": 2,
      "outputs": []
    },
    {
      "cell_type": "code",
      "metadata": {
        "colab": {
          "base_uri": "https://localhost:8080/",
          "height": 224
        },
        "id": "lWsVc9i1ZFCs",
        "outputId": "b6efefef-ccfa-4673-b9b7-3149eac9c090"
      },
      "source": [
        "data.head()"
      ],
      "execution_count": 3,
      "outputs": [
        {
          "output_type": "execute_result",
          "data": {
            "text/html": [
              "<div>\n",
              "<style scoped>\n",
              "    .dataframe tbody tr th:only-of-type {\n",
              "        vertical-align: middle;\n",
              "    }\n",
              "\n",
              "    .dataframe tbody tr th {\n",
              "        vertical-align: top;\n",
              "    }\n",
              "\n",
              "    .dataframe thead th {\n",
              "        text-align: right;\n",
              "    }\n",
              "</style>\n",
              "<table border=\"1\" class=\"dataframe\">\n",
              "  <thead>\n",
              "    <tr style=\"text-align: right;\">\n",
              "      <th></th>\n",
              "      <th>Time</th>\n",
              "      <th>V1</th>\n",
              "      <th>V2</th>\n",
              "      <th>V3</th>\n",
              "      <th>V4</th>\n",
              "      <th>V5</th>\n",
              "      <th>V6</th>\n",
              "      <th>V7</th>\n",
              "      <th>V8</th>\n",
              "      <th>V9</th>\n",
              "      <th>V10</th>\n",
              "      <th>V11</th>\n",
              "      <th>V12</th>\n",
              "      <th>V13</th>\n",
              "      <th>V14</th>\n",
              "      <th>V15</th>\n",
              "      <th>V16</th>\n",
              "      <th>V17</th>\n",
              "      <th>V18</th>\n",
              "      <th>V19</th>\n",
              "      <th>V20</th>\n",
              "      <th>V21</th>\n",
              "      <th>V22</th>\n",
              "      <th>V23</th>\n",
              "      <th>V24</th>\n",
              "      <th>V25</th>\n",
              "      <th>V26</th>\n",
              "      <th>V27</th>\n",
              "      <th>V28</th>\n",
              "      <th>Amount</th>\n",
              "      <th>Class</th>\n",
              "    </tr>\n",
              "  </thead>\n",
              "  <tbody>\n",
              "    <tr>\n",
              "      <th>0</th>\n",
              "      <td>0</td>\n",
              "      <td>-1.359807</td>\n",
              "      <td>-0.072781</td>\n",
              "      <td>2.536347</td>\n",
              "      <td>1.378155</td>\n",
              "      <td>-0.338321</td>\n",
              "      <td>0.462388</td>\n",
              "      <td>0.239599</td>\n",
              "      <td>0.098698</td>\n",
              "      <td>0.363787</td>\n",
              "      <td>0.090794</td>\n",
              "      <td>-0.551600</td>\n",
              "      <td>-0.617801</td>\n",
              "      <td>-0.991390</td>\n",
              "      <td>-0.311169</td>\n",
              "      <td>1.468177</td>\n",
              "      <td>-0.470401</td>\n",
              "      <td>0.207971</td>\n",
              "      <td>0.025791</td>\n",
              "      <td>0.403993</td>\n",
              "      <td>0.251412</td>\n",
              "      <td>-0.018307</td>\n",
              "      <td>0.277838</td>\n",
              "      <td>-0.110474</td>\n",
              "      <td>0.066928</td>\n",
              "      <td>0.128539</td>\n",
              "      <td>-0.189115</td>\n",
              "      <td>0.133558</td>\n",
              "      <td>-0.021053</td>\n",
              "      <td>149.62</td>\n",
              "      <td>0.0</td>\n",
              "    </tr>\n",
              "    <tr>\n",
              "      <th>1</th>\n",
              "      <td>0</td>\n",
              "      <td>1.191857</td>\n",
              "      <td>0.266151</td>\n",
              "      <td>0.166480</td>\n",
              "      <td>0.448154</td>\n",
              "      <td>0.060018</td>\n",
              "      <td>-0.082361</td>\n",
              "      <td>-0.078803</td>\n",
              "      <td>0.085102</td>\n",
              "      <td>-0.255425</td>\n",
              "      <td>-0.166974</td>\n",
              "      <td>1.612727</td>\n",
              "      <td>1.065235</td>\n",
              "      <td>0.489095</td>\n",
              "      <td>-0.143772</td>\n",
              "      <td>0.635558</td>\n",
              "      <td>0.463917</td>\n",
              "      <td>-0.114805</td>\n",
              "      <td>-0.183361</td>\n",
              "      <td>-0.145783</td>\n",
              "      <td>-0.069083</td>\n",
              "      <td>-0.225775</td>\n",
              "      <td>-0.638672</td>\n",
              "      <td>0.101288</td>\n",
              "      <td>-0.339846</td>\n",
              "      <td>0.167170</td>\n",
              "      <td>0.125895</td>\n",
              "      <td>-0.008983</td>\n",
              "      <td>0.014724</td>\n",
              "      <td>2.69</td>\n",
              "      <td>0.0</td>\n",
              "    </tr>\n",
              "    <tr>\n",
              "      <th>2</th>\n",
              "      <td>1</td>\n",
              "      <td>-1.358354</td>\n",
              "      <td>-1.340163</td>\n",
              "      <td>1.773209</td>\n",
              "      <td>0.379780</td>\n",
              "      <td>-0.503198</td>\n",
              "      <td>1.800499</td>\n",
              "      <td>0.791461</td>\n",
              "      <td>0.247676</td>\n",
              "      <td>-1.514654</td>\n",
              "      <td>0.207643</td>\n",
              "      <td>0.624501</td>\n",
              "      <td>0.066084</td>\n",
              "      <td>0.717293</td>\n",
              "      <td>-0.165946</td>\n",
              "      <td>2.345865</td>\n",
              "      <td>-2.890083</td>\n",
              "      <td>1.109969</td>\n",
              "      <td>-0.121359</td>\n",
              "      <td>-2.261857</td>\n",
              "      <td>0.524980</td>\n",
              "      <td>0.247998</td>\n",
              "      <td>0.771679</td>\n",
              "      <td>0.909412</td>\n",
              "      <td>-0.689281</td>\n",
              "      <td>-0.327642</td>\n",
              "      <td>-0.139097</td>\n",
              "      <td>-0.055353</td>\n",
              "      <td>-0.059752</td>\n",
              "      <td>378.66</td>\n",
              "      <td>0.0</td>\n",
              "    </tr>\n",
              "    <tr>\n",
              "      <th>3</th>\n",
              "      <td>1</td>\n",
              "      <td>-0.966272</td>\n",
              "      <td>-0.185226</td>\n",
              "      <td>1.792993</td>\n",
              "      <td>-0.863291</td>\n",
              "      <td>-0.010309</td>\n",
              "      <td>1.247203</td>\n",
              "      <td>0.237609</td>\n",
              "      <td>0.377436</td>\n",
              "      <td>-1.387024</td>\n",
              "      <td>-0.054952</td>\n",
              "      <td>-0.226487</td>\n",
              "      <td>0.178228</td>\n",
              "      <td>0.507757</td>\n",
              "      <td>-0.287924</td>\n",
              "      <td>-0.631418</td>\n",
              "      <td>-1.059647</td>\n",
              "      <td>-0.684093</td>\n",
              "      <td>1.965775</td>\n",
              "      <td>-1.232622</td>\n",
              "      <td>-0.208038</td>\n",
              "      <td>-0.108300</td>\n",
              "      <td>0.005274</td>\n",
              "      <td>-0.190321</td>\n",
              "      <td>-1.175575</td>\n",
              "      <td>0.647376</td>\n",
              "      <td>-0.221929</td>\n",
              "      <td>0.062723</td>\n",
              "      <td>0.061458</td>\n",
              "      <td>123.50</td>\n",
              "      <td>0.0</td>\n",
              "    </tr>\n",
              "    <tr>\n",
              "      <th>4</th>\n",
              "      <td>2</td>\n",
              "      <td>-1.158233</td>\n",
              "      <td>0.877737</td>\n",
              "      <td>1.548718</td>\n",
              "      <td>0.403034</td>\n",
              "      <td>-0.407193</td>\n",
              "      <td>0.095921</td>\n",
              "      <td>0.592941</td>\n",
              "      <td>-0.270533</td>\n",
              "      <td>0.817739</td>\n",
              "      <td>0.753074</td>\n",
              "      <td>-0.822843</td>\n",
              "      <td>0.538196</td>\n",
              "      <td>1.345852</td>\n",
              "      <td>-1.119670</td>\n",
              "      <td>0.175121</td>\n",
              "      <td>-0.451449</td>\n",
              "      <td>-0.237033</td>\n",
              "      <td>-0.038195</td>\n",
              "      <td>0.803487</td>\n",
              "      <td>0.408542</td>\n",
              "      <td>-0.009431</td>\n",
              "      <td>0.798278</td>\n",
              "      <td>-0.137458</td>\n",
              "      <td>0.141267</td>\n",
              "      <td>-0.206010</td>\n",
              "      <td>0.502292</td>\n",
              "      <td>0.219422</td>\n",
              "      <td>0.215153</td>\n",
              "      <td>69.99</td>\n",
              "      <td>0.0</td>\n",
              "    </tr>\n",
              "  </tbody>\n",
              "</table>\n",
              "</div>"
            ],
            "text/plain": [
              "   Time        V1        V2        V3  ...       V27       V28  Amount  Class\n",
              "0     0 -1.359807 -0.072781  2.536347  ...  0.133558 -0.021053  149.62    0.0\n",
              "1     0  1.191857  0.266151  0.166480  ... -0.008983  0.014724    2.69    0.0\n",
              "2     1 -1.358354 -1.340163  1.773209  ... -0.055353 -0.059752  378.66    0.0\n",
              "3     1 -0.966272 -0.185226  1.792993  ...  0.062723  0.061458  123.50    0.0\n",
              "4     2 -1.158233  0.877737  1.548718  ...  0.219422  0.215153   69.99    0.0\n",
              "\n",
              "[5 rows x 31 columns]"
            ]
          },
          "metadata": {},
          "execution_count": 3
        }
      ]
    },
    {
      "cell_type": "code",
      "metadata": {
        "colab": {
          "base_uri": "https://localhost:8080/",
          "height": 224
        },
        "id": "MYKhYnB4Zxp0",
        "outputId": "6a16251e-53fe-4858-df12-d2ab2d0e12aa"
      },
      "source": [
        "data.tail()"
      ],
      "execution_count": 8,
      "outputs": [
        {
          "output_type": "execute_result",
          "data": {
            "text/html": [
              "<div>\n",
              "<style scoped>\n",
              "    .dataframe tbody tr th:only-of-type {\n",
              "        vertical-align: middle;\n",
              "    }\n",
              "\n",
              "    .dataframe tbody tr th {\n",
              "        vertical-align: top;\n",
              "    }\n",
              "\n",
              "    .dataframe thead th {\n",
              "        text-align: right;\n",
              "    }\n",
              "</style>\n",
              "<table border=\"1\" class=\"dataframe\">\n",
              "  <thead>\n",
              "    <tr style=\"text-align: right;\">\n",
              "      <th></th>\n",
              "      <th>Time</th>\n",
              "      <th>V1</th>\n",
              "      <th>V2</th>\n",
              "      <th>V3</th>\n",
              "      <th>V4</th>\n",
              "      <th>V5</th>\n",
              "      <th>V6</th>\n",
              "      <th>V7</th>\n",
              "      <th>V8</th>\n",
              "      <th>V9</th>\n",
              "      <th>V10</th>\n",
              "      <th>V11</th>\n",
              "      <th>V12</th>\n",
              "      <th>V13</th>\n",
              "      <th>V14</th>\n",
              "      <th>V15</th>\n",
              "      <th>V16</th>\n",
              "      <th>V17</th>\n",
              "      <th>V18</th>\n",
              "      <th>V19</th>\n",
              "      <th>V20</th>\n",
              "      <th>V21</th>\n",
              "      <th>V22</th>\n",
              "      <th>V23</th>\n",
              "      <th>V24</th>\n",
              "      <th>V25</th>\n",
              "      <th>V26</th>\n",
              "      <th>V27</th>\n",
              "      <th>V28</th>\n",
              "      <th>Amount</th>\n",
              "      <th>Class</th>\n",
              "    </tr>\n",
              "  </thead>\n",
              "  <tbody>\n",
              "    <tr>\n",
              "      <th>13948</th>\n",
              "      <td>24753</td>\n",
              "      <td>-0.565780</td>\n",
              "      <td>0.754977</td>\n",
              "      <td>0.737825</td>\n",
              "      <td>0.030154</td>\n",
              "      <td>-1.383391</td>\n",
              "      <td>0.268107</td>\n",
              "      <td>0.687564</td>\n",
              "      <td>0.228757</td>\n",
              "      <td>0.648610</td>\n",
              "      <td>-0.813860</td>\n",
              "      <td>1.967346</td>\n",
              "      <td>-1.745376</td>\n",
              "      <td>2.149460</td>\n",
              "      <td>1.877504</td>\n",
              "      <td>-0.097994</td>\n",
              "      <td>0.629749</td>\n",
              "      <td>0.291085</td>\n",
              "      <td>0.620786</td>\n",
              "      <td>0.909800</td>\n",
              "      <td>-0.046313</td>\n",
              "      <td>-0.217212</td>\n",
              "      <td>-0.546207</td>\n",
              "      <td>0.358494</td>\n",
              "      <td>-0.016505</td>\n",
              "      <td>-0.793856</td>\n",
              "      <td>0.699716</td>\n",
              "      <td>-0.195727</td>\n",
              "      <td>-0.104007</td>\n",
              "      <td>232.00</td>\n",
              "      <td>0.0</td>\n",
              "    </tr>\n",
              "    <tr>\n",
              "      <th>13949</th>\n",
              "      <td>24754</td>\n",
              "      <td>1.252924</td>\n",
              "      <td>-0.182189</td>\n",
              "      <td>-0.802716</td>\n",
              "      <td>-0.210981</td>\n",
              "      <td>1.916713</td>\n",
              "      <td>3.643624</td>\n",
              "      <td>-0.778711</td>\n",
              "      <td>0.818295</td>\n",
              "      <td>1.706962</td>\n",
              "      <td>-0.539481</td>\n",
              "      <td>0.524218</td>\n",
              "      <td>-2.224983</td>\n",
              "      <td>1.506368</td>\n",
              "      <td>1.469584</td>\n",
              "      <td>-0.670082</td>\n",
              "      <td>0.122806</td>\n",
              "      <td>0.247449</td>\n",
              "      <td>-0.019811</td>\n",
              "      <td>0.418664</td>\n",
              "      <td>-0.001336</td>\n",
              "      <td>-0.497088</td>\n",
              "      <td>-1.211285</td>\n",
              "      <td>0.043809</td>\n",
              "      <td>0.964159</td>\n",
              "      <td>0.442030</td>\n",
              "      <td>0.261483</td>\n",
              "      <td>-0.051402</td>\n",
              "      <td>0.005112</td>\n",
              "      <td>23.74</td>\n",
              "      <td>0.0</td>\n",
              "    </tr>\n",
              "    <tr>\n",
              "      <th>13950</th>\n",
              "      <td>24756</td>\n",
              "      <td>-0.346979</td>\n",
              "      <td>-2.103284</td>\n",
              "      <td>-0.685061</td>\n",
              "      <td>1.961605</td>\n",
              "      <td>-0.401125</td>\n",
              "      <td>0.473632</td>\n",
              "      <td>1.133816</td>\n",
              "      <td>-0.256528</td>\n",
              "      <td>0.893409</td>\n",
              "      <td>-0.639733</td>\n",
              "      <td>2.069409</td>\n",
              "      <td>-1.105807</td>\n",
              "      <td>2.339853</td>\n",
              "      <td>1.921904</td>\n",
              "      <td>-1.153485</td>\n",
              "      <td>-0.336047</td>\n",
              "      <td>0.509636</td>\n",
              "      <td>0.060266</td>\n",
              "      <td>-0.535280</td>\n",
              "      <td>1.437054</td>\n",
              "      <td>0.359662</td>\n",
              "      <td>-0.316275</td>\n",
              "      <td>-0.864259</td>\n",
              "      <td>-0.279881</td>\n",
              "      <td>0.491802</td>\n",
              "      <td>-0.353996</td>\n",
              "      <td>-0.149931</td>\n",
              "      <td>0.129795</td>\n",
              "      <td>794.20</td>\n",
              "      <td>0.0</td>\n",
              "    </tr>\n",
              "    <tr>\n",
              "      <th>13951</th>\n",
              "      <td>24759</td>\n",
              "      <td>-6.053652</td>\n",
              "      <td>-5.988723</td>\n",
              "      <td>0.810413</td>\n",
              "      <td>-0.011811</td>\n",
              "      <td>1.308135</td>\n",
              "      <td>-0.590803</td>\n",
              "      <td>-0.725838</td>\n",
              "      <td>-0.234840</td>\n",
              "      <td>1.624646</td>\n",
              "      <td>0.816619</td>\n",
              "      <td>2.557427</td>\n",
              "      <td>-2.480679</td>\n",
              "      <td>1.757415</td>\n",
              "      <td>0.307835</td>\n",
              "      <td>-0.667360</td>\n",
              "      <td>1.424542</td>\n",
              "      <td>0.717358</td>\n",
              "      <td>-1.323944</td>\n",
              "      <td>-0.091943</td>\n",
              "      <td>-2.982379</td>\n",
              "      <td>-0.771970</td>\n",
              "      <td>1.474668</td>\n",
              "      <td>3.176363</td>\n",
              "      <td>-0.302410</td>\n",
              "      <td>0.052529</td>\n",
              "      <td>-0.373871</td>\n",
              "      <td>-0.700463</td>\n",
              "      <td>2.508443</td>\n",
              "      <td>60.00</td>\n",
              "      <td>0.0</td>\n",
              "    </tr>\n",
              "    <tr>\n",
              "      <th>13952</th>\n",
              "      <td>24759</td>\n",
              "      <td>1.169121</td>\n",
              "      <td>-1.284945</td>\n",
              "      <td>0.032717</td>\n",
              "      <td>-0.681670</td>\n",
              "      <td>0.660598</td>\n",
              "      <td>4.412578</td>\n",
              "      <td>-1.913115</td>\n",
              "      <td>1.076592</td>\n",
              "      <td>1.501230</td>\n",
              "      <td>0.089684</td>\n",
              "      <td>-0.085081</td>\n",
              "      <td>-2.392619</td>\n",
              "      <td>1.877502</td>\n",
              "      <td>0.643433</td>\n",
              "      <td>-1.206728</td>\n",
              "      <td>-1.262256</td>\n",
              "      <td>0.563295</td>\n",
              "      <td>1.845204</td>\n",
              "      <td>-0.471718</td>\n",
              "      <td>-0.265041</td>\n",
              "      <td>-0.557596</td>\n",
              "      <td>-0.882435</td>\n",
              "      <td>-0.041523</td>\n",
              "      <td>0.975445</td>\n",
              "      <td>0.297229</td>\n",
              "      <td>0.550515</td>\n",
              "      <td>0.015029</td>\n",
              "      <td>0.032067</td>\n",
              "      <td>90.00</td>\n",
              "      <td>0.0</td>\n",
              "    </tr>\n",
              "  </tbody>\n",
              "</table>\n",
              "</div>"
            ],
            "text/plain": [
              "        Time        V1        V2        V3  ...       V27       V28  Amount  Class\n",
              "13948  24753 -0.565780  0.754977  0.737825  ... -0.195727 -0.104007  232.00    0.0\n",
              "13949  24754  1.252924 -0.182189 -0.802716  ... -0.051402  0.005112   23.74    0.0\n",
              "13950  24756 -0.346979 -2.103284 -0.685061  ... -0.149931  0.129795  794.20    0.0\n",
              "13951  24759 -6.053652 -5.988723  0.810413  ... -0.700463  2.508443   60.00    0.0\n",
              "13952  24759  1.169121 -1.284945  0.032717  ...  0.015029  0.032067   90.00    0.0\n",
              "\n",
              "[5 rows x 31 columns]"
            ]
          },
          "metadata": {},
          "execution_count": 8
        }
      ]
    },
    {
      "cell_type": "code",
      "metadata": {
        "colab": {
          "base_uri": "https://localhost:8080/"
        },
        "id": "QTcMUkwwZHLT",
        "outputId": "536ce1f3-f8c8-4917-a19d-6afcaf993e32"
      },
      "source": [
        "data.isnull().sum()"
      ],
      "execution_count": 4,
      "outputs": [
        {
          "output_type": "execute_result",
          "data": {
            "text/plain": [
              "Time      0\n",
              "V1        0\n",
              "V2        0\n",
              "V3        0\n",
              "V4        0\n",
              "V5        0\n",
              "V6        0\n",
              "V7        0\n",
              "V8        0\n",
              "V9        0\n",
              "V10       0\n",
              "V11       0\n",
              "V12       0\n",
              "V13       0\n",
              "V14       0\n",
              "V15       0\n",
              "V16       0\n",
              "V17       0\n",
              "V18       0\n",
              "V19       0\n",
              "V20       0\n",
              "V21       0\n",
              "V22       0\n",
              "V23       0\n",
              "V24       0\n",
              "V25       0\n",
              "V26       0\n",
              "V27       0\n",
              "V28       0\n",
              "Amount    1\n",
              "Class     1\n",
              "dtype: int64"
            ]
          },
          "metadata": {},
          "execution_count": 4
        }
      ]
    },
    {
      "cell_type": "code",
      "metadata": {
        "id": "mr1-qA_qZLsi"
      },
      "source": [
        "data.dropna(inplace=True)"
      ],
      "execution_count": 5,
      "outputs": []
    },
    {
      "cell_type": "code",
      "metadata": {
        "colab": {
          "base_uri": "https://localhost:8080/"
        },
        "id": "r4DmFj0fZXqa",
        "outputId": "d548f734-6352-48b8-829d-e67bec479547"
      },
      "source": [
        "data.isnull().sum()"
      ],
      "execution_count": 6,
      "outputs": [
        {
          "output_type": "execute_result",
          "data": {
            "text/plain": [
              "Time      0\n",
              "V1        0\n",
              "V2        0\n",
              "V3        0\n",
              "V4        0\n",
              "V5        0\n",
              "V6        0\n",
              "V7        0\n",
              "V8        0\n",
              "V9        0\n",
              "V10       0\n",
              "V11       0\n",
              "V12       0\n",
              "V13       0\n",
              "V14       0\n",
              "V15       0\n",
              "V16       0\n",
              "V17       0\n",
              "V18       0\n",
              "V19       0\n",
              "V20       0\n",
              "V21       0\n",
              "V22       0\n",
              "V23       0\n",
              "V24       0\n",
              "V25       0\n",
              "V26       0\n",
              "V27       0\n",
              "V28       0\n",
              "Amount    0\n",
              "Class     0\n",
              "dtype: int64"
            ]
          },
          "metadata": {},
          "execution_count": 6
        }
      ]
    },
    {
      "cell_type": "code",
      "metadata": {
        "colab": {
          "base_uri": "https://localhost:8080/"
        },
        "id": "7keYsQAzZbDi",
        "outputId": "b8dec1ae-fcc5-4ade-ee82-9787b0b3ef52"
      },
      "source": [
        "data['Class'].value_counts()"
      ],
      "execution_count": 7,
      "outputs": [
        {
          "output_type": "execute_result",
          "data": {
            "text/plain": [
              "0.0    13897\n",
              "1.0       56\n",
              "Name: Class, dtype: int64"
            ]
          },
          "metadata": {},
          "execution_count": 7
        }
      ]
    },
    {
      "cell_type": "markdown",
      "metadata": {
        "id": "oVL5KdAQaAw1"
      },
      "source": [
        "This data is highly unbalanced"
      ]
    },
    {
      "cell_type": "markdown",
      "metadata": {
        "id": "gYPHwCN8aIK7"
      },
      "source": [
        "0: Normal Transaction\n",
        "1: Fraud Transaction"
      ]
    },
    {
      "cell_type": "code",
      "metadata": {
        "id": "mZuEX12KaFPy"
      },
      "source": [
        "legit=data[data.Class==0]\n",
        "fraud=data[data.Class==1]"
      ],
      "execution_count": 16,
      "outputs": []
    },
    {
      "cell_type": "code",
      "metadata": {
        "colab": {
          "base_uri": "https://localhost:8080/"
        },
        "id": "KUr5oNa0aTDi",
        "outputId": "453d80a9-ebf1-442b-a441-ccf2e5e381f0"
      },
      "source": [
        "print(legit.shape)\n",
        "fraud.shape"
      ],
      "execution_count": 17,
      "outputs": [
        {
          "output_type": "stream",
          "name": "stdout",
          "text": [
            "(13897, 31)\n"
          ]
        },
        {
          "output_type": "execute_result",
          "data": {
            "text/plain": [
              "(56, 31)"
            ]
          },
          "metadata": {},
          "execution_count": 17
        }
      ]
    },
    {
      "cell_type": "code",
      "metadata": {
        "id": "JJHqnH1wavEi"
      },
      "source": [
        "legit_sample=legit.sample(n=56)"
      ],
      "execution_count": 18,
      "outputs": []
    },
    {
      "cell_type": "code",
      "metadata": {
        "colab": {
          "base_uri": "https://localhost:8080/"
        },
        "id": "u4921gZmbc1e",
        "outputId": "89a5500b-a885-4982-af33-c0673f3a30ba"
      },
      "source": [
        "legit_sample.shape"
      ],
      "execution_count": 19,
      "outputs": [
        {
          "output_type": "execute_result",
          "data": {
            "text/plain": [
              "(56, 31)"
            ]
          },
          "metadata": {},
          "execution_count": 19
        }
      ]
    },
    {
      "cell_type": "code",
      "metadata": {
        "id": "ZLy0v53lbfHm"
      },
      "source": [
        "new_data=pd.concat([legit_sample,fraud],axis=0)"
      ],
      "execution_count": 20,
      "outputs": []
    },
    {
      "cell_type": "code",
      "metadata": {
        "colab": {
          "base_uri": "https://localhost:8080/",
          "height": 224
        },
        "id": "CcA4FuKdbyTq",
        "outputId": "bcafbf96-629a-40c9-822a-a91a58a77593"
      },
      "source": [
        "new_data.head(5)"
      ],
      "execution_count": 24,
      "outputs": [
        {
          "output_type": "execute_result",
          "data": {
            "text/html": [
              "<div>\n",
              "<style scoped>\n",
              "    .dataframe tbody tr th:only-of-type {\n",
              "        vertical-align: middle;\n",
              "    }\n",
              "\n",
              "    .dataframe tbody tr th {\n",
              "        vertical-align: top;\n",
              "    }\n",
              "\n",
              "    .dataframe thead th {\n",
              "        text-align: right;\n",
              "    }\n",
              "</style>\n",
              "<table border=\"1\" class=\"dataframe\">\n",
              "  <thead>\n",
              "    <tr style=\"text-align: right;\">\n",
              "      <th></th>\n",
              "      <th>Time</th>\n",
              "      <th>V1</th>\n",
              "      <th>V2</th>\n",
              "      <th>V3</th>\n",
              "      <th>V4</th>\n",
              "      <th>V5</th>\n",
              "      <th>V6</th>\n",
              "      <th>V7</th>\n",
              "      <th>V8</th>\n",
              "      <th>V9</th>\n",
              "      <th>V10</th>\n",
              "      <th>V11</th>\n",
              "      <th>V12</th>\n",
              "      <th>V13</th>\n",
              "      <th>V14</th>\n",
              "      <th>V15</th>\n",
              "      <th>V16</th>\n",
              "      <th>V17</th>\n",
              "      <th>V18</th>\n",
              "      <th>V19</th>\n",
              "      <th>V20</th>\n",
              "      <th>V21</th>\n",
              "      <th>V22</th>\n",
              "      <th>V23</th>\n",
              "      <th>V24</th>\n",
              "      <th>V25</th>\n",
              "      <th>V26</th>\n",
              "      <th>V27</th>\n",
              "      <th>V28</th>\n",
              "      <th>Amount</th>\n",
              "      <th>Class</th>\n",
              "    </tr>\n",
              "  </thead>\n",
              "  <tbody>\n",
              "    <tr>\n",
              "      <th>10776</th>\n",
              "      <td>18336</td>\n",
              "      <td>1.077549</td>\n",
              "      <td>0.389295</td>\n",
              "      <td>1.806577</td>\n",
              "      <td>2.995358</td>\n",
              "      <td>-0.825451</td>\n",
              "      <td>0.036138</td>\n",
              "      <td>-0.569598</td>\n",
              "      <td>0.014717</td>\n",
              "      <td>1.251363</td>\n",
              "      <td>0.092234</td>\n",
              "      <td>0.419764</td>\n",
              "      <td>-1.811113</td>\n",
              "      <td>2.416678</td>\n",
              "      <td>0.885331</td>\n",
              "      <td>-1.149384</td>\n",
              "      <td>0.461366</td>\n",
              "      <td>0.390755</td>\n",
              "      <td>-0.127511</td>\n",
              "      <td>-1.178331</td>\n",
              "      <td>-0.135944</td>\n",
              "      <td>-0.197349</td>\n",
              "      <td>-0.163726</td>\n",
              "      <td>0.075176</td>\n",
              "      <td>0.674632</td>\n",
              "      <td>0.252468</td>\n",
              "      <td>-0.106693</td>\n",
              "      <td>0.018941</td>\n",
              "      <td>0.036979</td>\n",
              "      <td>15.21</td>\n",
              "      <td>0.0</td>\n",
              "    </tr>\n",
              "    <tr>\n",
              "      <th>6199</th>\n",
              "      <td>7222</td>\n",
              "      <td>-0.401376</td>\n",
              "      <td>1.218133</td>\n",
              "      <td>1.550708</td>\n",
              "      <td>0.196379</td>\n",
              "      <td>0.103106</td>\n",
              "      <td>-0.724022</td>\n",
              "      <td>0.543015</td>\n",
              "      <td>-0.041539</td>\n",
              "      <td>0.557178</td>\n",
              "      <td>-0.724689</td>\n",
              "      <td>2.683909</td>\n",
              "      <td>-1.620465</td>\n",
              "      <td>2.031004</td>\n",
              "      <td>1.136273</td>\n",
              "      <td>-0.601811</td>\n",
              "      <td>0.471692</td>\n",
              "      <td>0.541717</td>\n",
              "      <td>0.515754</td>\n",
              "      <td>-0.084205</td>\n",
              "      <td>0.103076</td>\n",
              "      <td>-0.343786</td>\n",
              "      <td>-0.693773</td>\n",
              "      <td>0.007292</td>\n",
              "      <td>0.433998</td>\n",
              "      <td>-0.227199</td>\n",
              "      <td>0.001875</td>\n",
              "      <td>0.217523</td>\n",
              "      <td>0.084799</td>\n",
              "      <td>3.56</td>\n",
              "      <td>0.0</td>\n",
              "    </tr>\n",
              "    <tr>\n",
              "      <th>3200</th>\n",
              "      <td>2785</td>\n",
              "      <td>-0.378752</td>\n",
              "      <td>0.584419</td>\n",
              "      <td>0.965938</td>\n",
              "      <td>-2.217679</td>\n",
              "      <td>0.304713</td>\n",
              "      <td>-1.015083</td>\n",
              "      <td>0.999675</td>\n",
              "      <td>-0.221241</td>\n",
              "      <td>0.739866</td>\n",
              "      <td>-0.952552</td>\n",
              "      <td>0.903113</td>\n",
              "      <td>0.300875</td>\n",
              "      <td>-1.191814</td>\n",
              "      <td>0.445327</td>\n",
              "      <td>0.311059</td>\n",
              "      <td>-0.244662</td>\n",
              "      <td>-0.885977</td>\n",
              "      <td>0.760831</td>\n",
              "      <td>0.318002</td>\n",
              "      <td>-0.008937</td>\n",
              "      <td>0.079716</td>\n",
              "      <td>0.529257</td>\n",
              "      <td>-0.337573</td>\n",
              "      <td>-0.017025</td>\n",
              "      <td>0.054679</td>\n",
              "      <td>-0.833416</td>\n",
              "      <td>0.228425</td>\n",
              "      <td>-0.029216</td>\n",
              "      <td>1.00</td>\n",
              "      <td>0.0</td>\n",
              "    </tr>\n",
              "    <tr>\n",
              "      <th>2100</th>\n",
              "      <td>1616</td>\n",
              "      <td>-2.029383</td>\n",
              "      <td>-0.484746</td>\n",
              "      <td>0.610536</td>\n",
              "      <td>-0.467026</td>\n",
              "      <td>-1.210295</td>\n",
              "      <td>-0.272515</td>\n",
              "      <td>-0.246713</td>\n",
              "      <td>0.908081</td>\n",
              "      <td>0.670911</td>\n",
              "      <td>-1.424639</td>\n",
              "      <td>-1.930472</td>\n",
              "      <td>0.090798</td>\n",
              "      <td>-0.556959</td>\n",
              "      <td>0.043065</td>\n",
              "      <td>-0.903609</td>\n",
              "      <td>0.541533</td>\n",
              "      <td>0.018737</td>\n",
              "      <td>-0.165733</td>\n",
              "      <td>0.123453</td>\n",
              "      <td>-0.403534</td>\n",
              "      <td>-0.058736</td>\n",
              "      <td>-0.183873</td>\n",
              "      <td>0.640417</td>\n",
              "      <td>-0.066303</td>\n",
              "      <td>-0.771341</td>\n",
              "      <td>0.710196</td>\n",
              "      <td>-0.024924</td>\n",
              "      <td>-0.351648</td>\n",
              "      <td>112.18</td>\n",
              "      <td>0.0</td>\n",
              "    </tr>\n",
              "    <tr>\n",
              "      <th>13137</th>\n",
              "      <td>23069</td>\n",
              "      <td>-2.133012</td>\n",
              "      <td>-5.700010</td>\n",
              "      <td>-0.596931</td>\n",
              "      <td>1.755942</td>\n",
              "      <td>-2.361500</td>\n",
              "      <td>1.544069</td>\n",
              "      <td>1.171810</td>\n",
              "      <td>0.004661</td>\n",
              "      <td>2.038865</td>\n",
              "      <td>-1.437874</td>\n",
              "      <td>2.217752</td>\n",
              "      <td>-1.310693</td>\n",
              "      <td>1.241728</td>\n",
              "      <td>1.617283</td>\n",
              "      <td>-1.009700</td>\n",
              "      <td>-0.260860</td>\n",
              "      <td>1.249552</td>\n",
              "      <td>-0.367068</td>\n",
              "      <td>-0.769011</td>\n",
              "      <td>3.170880</td>\n",
              "      <td>0.725184</td>\n",
              "      <td>-1.177394</td>\n",
              "      <td>-1.318026</td>\n",
              "      <td>-0.207467</td>\n",
              "      <td>-0.689745</td>\n",
              "      <td>0.738598</td>\n",
              "      <td>-0.346364</td>\n",
              "      <td>0.279965</td>\n",
              "      <td>1670.28</td>\n",
              "      <td>0.0</td>\n",
              "    </tr>\n",
              "  </tbody>\n",
              "</table>\n",
              "</div>"
            ],
            "text/plain": [
              "        Time        V1        V2        V3  ...       V27       V28   Amount  Class\n",
              "10776  18336  1.077549  0.389295  1.806577  ...  0.018941  0.036979    15.21    0.0\n",
              "6199    7222 -0.401376  1.218133  1.550708  ...  0.217523  0.084799     3.56    0.0\n",
              "3200    2785 -0.378752  0.584419  0.965938  ...  0.228425 -0.029216     1.00    0.0\n",
              "2100    1616 -2.029383 -0.484746  0.610536  ... -0.024924 -0.351648   112.18    0.0\n",
              "13137  23069 -2.133012 -5.700010 -0.596931  ... -0.346364  0.279965  1670.28    0.0\n",
              "\n",
              "[5 rows x 31 columns]"
            ]
          },
          "metadata": {},
          "execution_count": 24
        }
      ]
    },
    {
      "cell_type": "code",
      "metadata": {
        "id": "CMtWIJlrb0M6"
      },
      "source": [
        "from sklearn.model_selection import train_test_split"
      ],
      "execution_count": 25,
      "outputs": []
    },
    {
      "cell_type": "code",
      "metadata": {
        "id": "N8Wy56wyc8Pj"
      },
      "source": [
        "features=new_data.drop('Class',axis=1)\n",
        "target=new_data['Class']"
      ],
      "execution_count": 28,
      "outputs": []
    },
    {
      "cell_type": "code",
      "metadata": {
        "id": "gq_fbEJjdIvD"
      },
      "source": [
        "x_train,x_test,y_train,y_test=train_test_split(features,target,train_size=0.8,random_state=1)"
      ],
      "execution_count": 29,
      "outputs": []
    },
    {
      "cell_type": "code",
      "metadata": {
        "id": "d44MkRiAdcTz"
      },
      "source": [
        "from sklearn.linear_model import LogisticRegression"
      ],
      "execution_count": 30,
      "outputs": []
    },
    {
      "cell_type": "code",
      "metadata": {
        "id": "GJb1qgOhd05j"
      },
      "source": [
        "model=LogisticRegression()"
      ],
      "execution_count": 31,
      "outputs": []
    },
    {
      "cell_type": "code",
      "metadata": {
        "colab": {
          "base_uri": "https://localhost:8080/"
        },
        "id": "ppCMlHDJd3f7",
        "outputId": "01273eec-832c-4c0b-e3cf-5ba2b59b8375"
      },
      "source": [
        "pred=model.fit(x_train,y_train).predict(x_test)"
      ],
      "execution_count": 32,
      "outputs": [
        {
          "output_type": "stream",
          "name": "stderr",
          "text": [
            "/usr/local/lib/python3.7/dist-packages/sklearn/linear_model/_logistic.py:940: ConvergenceWarning: lbfgs failed to converge (status=1):\n",
            "STOP: TOTAL NO. of ITERATIONS REACHED LIMIT.\n",
            "\n",
            "Increase the number of iterations (max_iter) or scale the data as shown in:\n",
            "    https://scikit-learn.org/stable/modules/preprocessing.html\n",
            "Please also refer to the documentation for alternative solver options:\n",
            "    https://scikit-learn.org/stable/modules/linear_model.html#logistic-regression\n",
            "  extra_warning_msg=_LOGISTIC_SOLVER_CONVERGENCE_MSG)\n"
          ]
        }
      ]
    },
    {
      "cell_type": "code",
      "metadata": {
        "id": "vnplEY95d_nD"
      },
      "source": [
        "from sklearn import metrics"
      ],
      "execution_count": 33,
      "outputs": []
    },
    {
      "cell_type": "code",
      "metadata": {
        "colab": {
          "base_uri": "https://localhost:8080/"
        },
        "id": "70J93GxbePpi",
        "outputId": "bb479226-d207-4adc-ec66-a328752ab9d9"
      },
      "source": [
        "metrics.r2_score(y_test,pred)"
      ],
      "execution_count": 34,
      "outputs": [
        {
          "output_type": "execute_result",
          "data": {
            "text/plain": [
              "1.0"
            ]
          },
          "metadata": {},
          "execution_count": 34
        }
      ]
    },
    {
      "cell_type": "code",
      "metadata": {
        "colab": {
          "base_uri": "https://localhost:8080/"
        },
        "id": "efeRRdwEeW-i",
        "outputId": "843ebee4-941a-4c5c-cb7b-e805fa880747"
      },
      "source": [
        "y_test"
      ],
      "execution_count": 35,
      "outputs": [
        {
          "output_type": "execute_result",
          "data": {
            "text/plain": [
              "9252     1.0\n",
              "2738     0.0\n",
              "541      1.0\n",
              "8312     1.0\n",
              "6609     1.0\n",
              "10897    1.0\n",
              "10630    1.0\n",
              "4920     1.0\n",
              "6796     0.0\n",
              "252      0.0\n",
              "6427     1.0\n",
              "9487     1.0\n",
              "3200     0.0\n",
              "10690    1.0\n",
              "11710    1.0\n",
              "1243     0.0\n",
              "10568    1.0\n",
              "10484    1.0\n",
              "9179     1.0\n",
              "7096     0.0\n",
              "6774     1.0\n",
              "11923    0.0\n",
              "6899     1.0\n",
              "Name: Class, dtype: float64"
            ]
          },
          "metadata": {},
          "execution_count": 35
        }
      ]
    },
    {
      "cell_type": "code",
      "metadata": {
        "colab": {
          "base_uri": "https://localhost:8080/"
        },
        "id": "0TfcIrsdeZjS",
        "outputId": "65f2a20a-f1f6-4246-838b-b12c841cb08b"
      },
      "source": [
        "pred"
      ],
      "execution_count": 36,
      "outputs": [
        {
          "output_type": "execute_result",
          "data": {
            "text/plain": [
              "array([1., 0., 1., 1., 1., 1., 1., 1., 0., 0., 1., 1., 0., 1., 1., 0., 1.,\n",
              "       1., 1., 0., 1., 0., 1.])"
            ]
          },
          "metadata": {},
          "execution_count": 36
        }
      ]
    },
    {
      "cell_type": "code",
      "metadata": {
        "colab": {
          "base_uri": "https://localhost:8080/"
        },
        "id": "Uqk7gTHRebAr",
        "outputId": "aaa7035a-ac3e-4032-f267-5740328cf371"
      },
      "source": [
        "print('Accuracy score on test data is ',metrics.r2_score(y_test,pred)*100,'%')"
      ],
      "execution_count": 39,
      "outputs": [
        {
          "output_type": "stream",
          "name": "stdout",
          "text": [
            "Accuracy score on test data is  100.0 %\n"
          ]
        }
      ]
    },
    {
      "cell_type": "code",
      "metadata": {
        "id": "1qK-Qp7TevTL"
      },
      "source": [
        ""
      ],
      "execution_count": null,
      "outputs": []
    }
  ]
}